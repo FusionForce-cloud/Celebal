{
  "nbformat": 4,
  "nbformat_minor": 0,
  "metadata": {
    "colab": {
      "provenance": []
    },
    "kernelspec": {
      "name": "python3",
      "display_name": "Python 3"
    },
    "language_info": {
      "name": "python"
    }
  },
  "cells": [
    {
      "cell_type": "code",
      "execution_count": 1,
      "metadata": {
        "colab": {
          "base_uri": "https://localhost:8080/"
        },
        "id": "ZFfMbhrWzbqB",
        "outputId": "a54c80e3-af47-4324-c0df-9838668c4514"
      },
      "outputs": [
        {
          "output_type": "stream",
          "name": "stdout",
          "text": [
            "Linked List: 10 -> 20 -> 30 -> 40 -> None\n",
            "Deleting node at position 2 with value '20'\n",
            "Linked List: 10 -> 30 -> 40 -> None\n",
            "Deleting node at position 1 with value '10'\n",
            "Linked List: 30 -> 40 -> None\n",
            "Error: Index out of range.\n",
            "Linked List: 30 -> 40 -> None\n",
            "Deleting node at position 1 with value '30'\n",
            "Deleting node at position 1 with value '40'\n",
            "List is empty.\n",
            "Error: Cannot delete from an empty list.\n"
          ]
        }
      ],
      "source": [
        "class Node:\n",
        "\n",
        "    def __init__(self, data):\n",
        "        self.data = data\n",
        "        self.next = None\n",
        "\n",
        "\n",
        "class LinkedList:\n",
        "\n",
        "    def __init__(self):\n",
        "        self.head = None\n",
        "\n",
        "    def add_node(self, data):\n",
        "\n",
        "        new_node = Node(data)\n",
        "        if not self.head:\n",
        "            self.head = new_node\n",
        "            return\n",
        "        current = self.head\n",
        "        while current.next:\n",
        "            current = current.next\n",
        "        current.next = new_node\n",
        "\n",
        "    def print_list(self):\n",
        "\n",
        "        if not self.head:\n",
        "            print(\"List is empty.\")\n",
        "            return\n",
        "        current = self.head\n",
        "        print(\"Linked List:\", end=\" \")\n",
        "        while current:\n",
        "            print(current.data, end=\" -> \")\n",
        "            current = current.next\n",
        "        print(\"None\")\n",
        "\n",
        "    def delete_nth_node(self, n):\n",
        "\n",
        "        try:\n",
        "            if not self.head:\n",
        "                raise IndexError(\"Cannot delete from an empty list.\")\n",
        "\n",
        "            if n <= 0:\n",
        "                raise IndexError(\"Index must be a positive integer.\")\n",
        "\n",
        "            if n == 1:\n",
        "                print(f\"Deleting node at position {n} with value '{self.head.data}'\")\n",
        "                self.head = self.head.next\n",
        "                return\n",
        "\n",
        "            current = self.head\n",
        "            prev = None\n",
        "            count = 1\n",
        "\n",
        "            while current and count < n:\n",
        "                prev = current\n",
        "                current = current.next\n",
        "                count += 1\n",
        "\n",
        "            if not current:\n",
        "                raise IndexError(\"Index out of range.\")\n",
        "\n",
        "            print(f\"Deleting node at position {n} with value '{current.data}'\")\n",
        "            prev.next = current.next\n",
        "\n",
        "        except IndexError as e:\n",
        "            print(\"Error:\", e)\n",
        "\n",
        "\n",
        "if __name__ == \"__main__\":\n",
        "    ll = LinkedList()\n",
        "\n",
        "\n",
        "    ll.add_node(10)\n",
        "    ll.add_node(20)\n",
        "    ll.add_node(30)\n",
        "    ll.add_node(40)\n",
        "\n",
        "\n",
        "    ll.print_list()\n",
        "\n",
        "\n",
        "    ll.delete_nth_node(2)\n",
        "    ll.print_list()\n",
        "\n",
        "    ll.delete_nth_node(1)\n",
        "    ll.print_list()\n",
        "\n",
        "    ll.delete_nth_node(10)\n",
        "    ll.print_list()\n",
        "\n",
        "    ll.delete_nth_node(1)\n",
        "    ll.delete_nth_node(1)\n",
        "    ll.print_list()\n",
        "    ll.delete_nth_node(1)\n"
      ]
    },
    {
      "cell_type": "code",
      "source": [],
      "metadata": {
        "id": "6alMI68gzp3R"
      },
      "execution_count": null,
      "outputs": []
    }
  ]
}